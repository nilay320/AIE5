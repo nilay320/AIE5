{
 "cells": [
  {
   "cell_type": "code",
   "execution_count": 8,
   "metadata": {},
   "outputs": [],
   "source": [
    "from langchain_ollama import ChatOllama\n",
    "\n",
    "llm = ChatOllama(model=\"deepseek-r1:8b\")"
   ]
  },
  {
   "cell_type": "code",
   "execution_count": 9,
   "metadata": {},
   "outputs": [
    {
     "name": "stdout",
     "output_type": "stream",
     "text": [
      "<think>\n",
      "I recognize that the question asks for the cube root of 27.\n",
      "\n",
      "I recall that the cube root of a number is a value that, when multiplied by itself twice more, gives back the original number.\n",
      "\n",
      "Starting with the simplest candidates, I consider the number 3. If I multiply 3 three times (3 × 3 × 3), it equals 27.\n",
      "\n",
      "Since this multiplication results in the original number, I conclude that the cube root of 27 is indeed 3.\n",
      "</think>\n",
      "\n",
      "To find the **cube root** of **27**, follow these steps:\n",
      "\n",
      "1. **Understand the Concept:**\n",
      "   - The **cube root** of a number \\( x \\) is a number \\( y \\) such that:\n",
      "     \\[\n",
      "     y^3 = x\n",
      "     \\]\n",
      "   - For example, we want to find \\( y \\) where \\( y^3 = 27 \\).\n",
      "\n",
      "2. **Apply the Definition:**\n",
      "   - We need to find \\( y \\) such that \\( y^3 = 27 \\).\n",
      "   \n",
      "3. **Solve for \\( y \\):**\n",
      "   - Start with the number **3**:\n",
      "     \\[\n",
      "     3^3 = 3 \\times 3 \\times 3 = 9 \\times 3 = 27\n",
      "     \\]\n",
      "   - Since \\( 3^3 = 27 \\), it follows that the cube root of **27** is **3**.\n",
      "\n",
      "4. **Final Answer:**\n",
      "   \\[\n",
      "   \\sqrt[3]{27} = \\boxed{3}\n",
      "   \\]"
     ]
    }
   ],
   "source": [
    "for chunk in llm.stream(\"What is the 3rd root of 27?\"):\n",
    "    print(chunk.content, end=\"\")"
   ]
  },
  {
   "cell_type": "code",
   "execution_count": null,
   "metadata": {},
   "outputs": [],
   "source": []
  }
 ],
 "metadata": {
  "kernelspec": {
   "display_name": ".venv",
   "language": "python",
   "name": "python3"
  },
  "language_info": {
   "codemirror_mode": {
    "name": "ipython",
    "version": 3
   },
   "file_extension": ".py",
   "mimetype": "text/x-python",
   "name": "python",
   "nbconvert_exporter": "python",
   "pygments_lexer": "ipython3",
   "version": "3.13.1"
  }
 },
 "nbformat": 4,
 "nbformat_minor": 2
}
